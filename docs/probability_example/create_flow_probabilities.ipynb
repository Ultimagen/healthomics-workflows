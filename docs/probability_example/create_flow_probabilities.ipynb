{
 "cells": [
  {
   "cell_type": "markdown",
   "metadata": {},
   "source": [
    "# Example on loading probabilities output from the cram file"
   ]
  },
  {
   "cell_type": "markdown",
   "metadata": {},
   "source": [
    "For installation use the following pip install, required python 3.11\n",
    "\n"
   ]
  },
  {
   "cell_type": "code",
   "execution_count": 120,
   "metadata": {},
   "outputs": [],
   "source": [
    "# pip install ugbio_core[vcfbed]"
   ]
  },
  {
   "cell_type": "code",
   "execution_count": 121,
   "metadata": {},
   "outputs": [],
   "source": [
    "import pysam\n",
    "import numpy as np"
   ]
  },
  {
   "cell_type": "code",
   "execution_count": 122,
   "metadata": {},
   "outputs": [],
   "source": [
    "from util import Flow_prob_from_sam_record, extract_all_tags_to_dataframe\n",
    "from util import key2seq"
   ]
  },
  {
   "cell_type": "markdown",
   "metadata": {},
   "source": [
    "## Load cram file \n",
    "\n",
    "This load the sam file and pull the probabilites from it and store to disk.\n",
    "\n",
    "It takes ~2min for the example ~200k sam file"
   ]
  },
  {
   "cell_type": "code",
   "execution_count": 123,
   "metadata": {},
   "outputs": [],
   "source": [
    "# !aws s3 cp s3://ultimagen-workflow-resources-us-east-1/test_data/cram_example/cram_example.cram /data/Runs/examples/cram_example.cram"
   ]
  },
  {
   "cell_type": "code",
   "execution_count": 124,
   "metadata": {},
   "outputs": [],
   "source": [
    "cram_file = '/data/Runs/examples/cram_example.cram'"
   ]
  },
  {
   "cell_type": "code",
   "execution_count": 125,
   "metadata": {},
   "outputs": [
    {
     "name": "stderr",
     "output_type": "stream",
     "text": [
      "[E::cram_index_load] Could not retrieve index file for '/data/Runs/examples/cram_example.cram'\n"
     ]
    },
    {
     "name": "stdout",
     "output_type": "stream",
     "text": [
      "Processed 50000 records, in batch 0\n",
      "Processed 100000 records, in batch 1\n",
      "Processed 150000 records, in batch 2\n",
      "Processed 200000 records, in batch 3\n",
      "Processed 238479 records, in batch 4\n",
      "Finished processing 238479 records\n"
     ]
    }
   ],
   "source": [
    "alignment_file = pysam.AlignmentFile(cram_file, 'r')\n",
    "Flow_prob_from_sam_record(alignment_file, batch_size=50_000, output_file = '/data/Runs/examples/run_name.flow_prob', max_hmer_size=20, max_len=500)"
   ]
  },
  {
   "cell_type": "markdown",
   "metadata": {},
   "source": [
    "## Validate the data created"
   ]
  },
  {
   "cell_type": "markdown",
   "metadata": {},
   "source": [
    "load directly the cram file"
   ]
  },
  {
   "cell_type": "code",
   "execution_count": 126,
   "metadata": {},
   "outputs": [],
   "source": [
    "df = extract_all_tags_to_dataframe(cram_file)"
   ]
  },
  {
   "cell_type": "code",
   "execution_count": 127,
   "metadata": {},
   "outputs": [
    {
     "name": "stdout",
     "output_type": "stream",
     "text": [
      "there are 238479 reads in the sam file\n"
     ]
    }
   ],
   "source": [
    "print('there are',len(df),'reads in the sam file')"
   ]
  },
  {
   "cell_type": "markdown",
   "metadata": {},
   "source": [
    "### sequence of sample read"
   ]
  },
  {
   "cell_type": "code",
   "execution_count": 128,
   "metadata": {},
   "outputs": [
    {
     "data": {
      "text/html": [
       "<div>\n",
       "<style scoped>\n",
       "    .dataframe tbody tr th:only-of-type {\n",
       "        vertical-align: middle;\n",
       "    }\n",
       "\n",
       "    .dataframe tbody tr th {\n",
       "        vertical-align: top;\n",
       "    }\n",
       "\n",
       "    .dataframe thead th {\n",
       "        text-align: right;\n",
       "    }\n",
       "</style>\n",
       "<table border=\"1\" class=\"dataframe\">\n",
       "  <thead>\n",
       "    <tr style=\"text-align: right;\">\n",
       "      <th></th>\n",
       "      <th>QNAME</th>\n",
       "      <th>FLAG</th>\n",
       "      <th>RNAME</th>\n",
       "      <th>POS</th>\n",
       "      <th>MAPQ</th>\n",
       "      <th>CIGAR</th>\n",
       "      <th>RNEXT</th>\n",
       "      <th>PNEXT</th>\n",
       "      <th>TLEN</th>\n",
       "      <th>SEQ</th>\n",
       "      <th>...</th>\n",
       "      <th>SA</th>\n",
       "      <th>RG</th>\n",
       "      <th>tm</th>\n",
       "      <th>a3</th>\n",
       "      <th>XA</th>\n",
       "      <th>XB</th>\n",
       "      <th>MI</th>\n",
       "      <th>DS</th>\n",
       "      <th>Index</th>\n",
       "      <th>OP</th>\n",
       "    </tr>\n",
       "  </thead>\n",
       "  <tbody>\n",
       "    <tr>\n",
       "      <th>0</th>\n",
       "      <td>030912011001_2-0000020911</td>\n",
       "      <td>16</td>\n",
       "      <td>chr1</td>\n",
       "      <td>10173</td>\n",
       "      <td>0</td>\n",
       "      <td>151S60M</td>\n",
       "      <td>*</td>\n",
       "      <td>0</td>\n",
       "      <td>0</td>\n",
       "      <td>CTACTATCTACTACTACATACTACTACTACTACTACTACTACTACT...</td>\n",
       "      <td>...</td>\n",
       "      <td>chr15,61595589,+,131S59M21S,1,0;chr9,19592496,...</td>\n",
       "      <td>Z0115</td>\n",
       "      <td>NaN</td>\n",
       "      <td>NaN</td>\n",
       "      <td>NaN</td>\n",
       "      <td>NaN</td>\n",
       "      <td>NaN</td>\n",
       "      <td>NaN</td>\n",
       "      <td>20911</td>\n",
       "      <td>2</td>\n",
       "    </tr>\n",
       "    <tr>\n",
       "      <th>1</th>\n",
       "      <td>030912011001_2-0000098204</td>\n",
       "      <td>0</td>\n",
       "      <td>chr1</td>\n",
       "      <td>20114</td>\n",
       "      <td>0</td>\n",
       "      <td>335M</td>\n",
       "      <td>*</td>\n",
       "      <td>0</td>\n",
       "      <td>0</td>\n",
       "      <td>ACTTAGAAAAGGCCGCGGTGAGTCCCAGGGGCCAGCACTGCTCGAA...</td>\n",
       "      <td>...</td>\n",
       "      <td>NaN</td>\n",
       "      <td>Z0115</td>\n",
       "      <td>NaN</td>\n",
       "      <td>NaN</td>\n",
       "      <td>NaN</td>\n",
       "      <td>NaN</td>\n",
       "      <td>NaN</td>\n",
       "      <td>NaN</td>\n",
       "      <td>98204</td>\n",
       "      <td>2</td>\n",
       "    </tr>\n",
       "    <tr>\n",
       "      <th>2</th>\n",
       "      <td>030912011001_2-0000040692</td>\n",
       "      <td>0</td>\n",
       "      <td>chr1</td>\n",
       "      <td>24403</td>\n",
       "      <td>0</td>\n",
       "      <td>22M2D74M1D53M1I32M1I12M1D26M</td>\n",
       "      <td>*</td>\n",
       "      <td>0</td>\n",
       "      <td>0</td>\n",
       "      <td>CCTTGCACACGAGCACTGCTGGTAATATTTGTTGGCTGCAGGAAAA...</td>\n",
       "      <td>...</td>\n",
       "      <td>NaN</td>\n",
       "      <td>Z0115</td>\n",
       "      <td>Q</td>\n",
       "      <td>NaN</td>\n",
       "      <td>NaN</td>\n",
       "      <td>NaN</td>\n",
       "      <td>NaN</td>\n",
       "      <td>NaN</td>\n",
       "      <td>40692</td>\n",
       "      <td>2</td>\n",
       "    </tr>\n",
       "    <tr>\n",
       "      <th>3</th>\n",
       "      <td>030912011001_1-0000094689</td>\n",
       "      <td>0</td>\n",
       "      <td>chr1</td>\n",
       "      <td>26444</td>\n",
       "      <td>0</td>\n",
       "      <td>289M</td>\n",
       "      <td>*</td>\n",
       "      <td>0</td>\n",
       "      <td>0</td>\n",
       "      <td>TTTCTTGTTAGTGTGTGTGTGTTTGCTCACACATATGCGTGAAAGA...</td>\n",
       "      <td>...</td>\n",
       "      <td>NaN</td>\n",
       "      <td>Z0115</td>\n",
       "      <td>A</td>\n",
       "      <td>290.0</td>\n",
       "      <td>NaN</td>\n",
       "      <td>NaN</td>\n",
       "      <td>NaN</td>\n",
       "      <td>NaN</td>\n",
       "      <td>94689</td>\n",
       "      <td>1</td>\n",
       "    </tr>\n",
       "    <tr>\n",
       "      <th>4</th>\n",
       "      <td>030912011001_1-0000015469</td>\n",
       "      <td>16</td>\n",
       "      <td>chr1</td>\n",
       "      <td>65740</td>\n",
       "      <td>25</td>\n",
       "      <td>281M</td>\n",
       "      <td>*</td>\n",
       "      <td>0</td>\n",
       "      <td>0</td>\n",
       "      <td>TAGAGAAATTAATATGAATAATGTTAGCAAGAATAACCCTTGTTAT...</td>\n",
       "      <td>...</td>\n",
       "      <td>NaN</td>\n",
       "      <td>Z0115</td>\n",
       "      <td>A</td>\n",
       "      <td>282.0</td>\n",
       "      <td>NaN</td>\n",
       "      <td>NaN</td>\n",
       "      <td>NaN</td>\n",
       "      <td>NaN</td>\n",
       "      <td>15469</td>\n",
       "      <td>1</td>\n",
       "    </tr>\n",
       "  </tbody>\n",
       "</table>\n",
       "<p>5 rows × 32 columns</p>\n",
       "</div>"
      ],
      "text/plain": [
       "                       QNAME FLAG RNAME    POS MAPQ  \\\n",
       "0  030912011001_2-0000020911   16  chr1  10173    0   \n",
       "1  030912011001_2-0000098204    0  chr1  20114    0   \n",
       "2  030912011001_2-0000040692    0  chr1  24403    0   \n",
       "3  030912011001_1-0000094689    0  chr1  26444    0   \n",
       "4  030912011001_1-0000015469   16  chr1  65740   25   \n",
       "\n",
       "                          CIGAR RNEXT PNEXT TLEN  \\\n",
       "0                       151S60M     *     0    0   \n",
       "1                          335M     *     0    0   \n",
       "2  22M2D74M1D53M1I32M1I12M1D26M     *     0    0   \n",
       "3                          289M     *     0    0   \n",
       "4                          281M     *     0    0   \n",
       "\n",
       "                                                 SEQ  ...  \\\n",
       "0  CTACTATCTACTACTACATACTACTACTACTACTACTACTACTACT...  ...   \n",
       "1  ACTTAGAAAAGGCCGCGGTGAGTCCCAGGGGCCAGCACTGCTCGAA...  ...   \n",
       "2  CCTTGCACACGAGCACTGCTGGTAATATTTGTTGGCTGCAGGAAAA...  ...   \n",
       "3  TTTCTTGTTAGTGTGTGTGTGTTTGCTCACACATATGCGTGAAAGA...  ...   \n",
       "4  TAGAGAAATTAATATGAATAATGTTAGCAAGAATAACCCTTGTTAT...  ...   \n",
       "\n",
       "                                                  SA     RG   tm     a3   XA  \\\n",
       "0  chr15,61595589,+,131S59M21S,1,0;chr9,19592496,...  Z0115  NaN    NaN  NaN   \n",
       "1                                                NaN  Z0115  NaN    NaN  NaN   \n",
       "2                                                NaN  Z0115    Q    NaN  NaN   \n",
       "3                                                NaN  Z0115    A  290.0  NaN   \n",
       "4                                                NaN  Z0115    A  282.0  NaN   \n",
       "\n",
       "    XB   MI  DS  Index  OP  \n",
       "0  NaN  NaN NaN  20911   2  \n",
       "1  NaN  NaN NaN  98204   2  \n",
       "2  NaN  NaN NaN  40692   2  \n",
       "3  NaN  NaN NaN  94689   1  \n",
       "4  NaN  NaN NaN  15469   1  \n",
       "\n",
       "[5 rows x 32 columns]"
      ]
     },
     "execution_count": 128,
     "metadata": {},
     "output_type": "execute_result"
    }
   ],
   "source": [
    "df.head()"
   ]
  },
  {
   "cell_type": "code",
   "execution_count": 129,
   "metadata": {},
   "outputs": [
    {
     "name": "stdout",
     "output_type": "stream",
     "text": [
      "sequence of the first 100 bases of read number  1\n",
      "ACTTAGAAAAGGCCGCGGTGAGTCCCAGGGGCCAGCACTGCTCGAAATGTACAGCATTTCTCTTTGTAACAGGATTATTAGCCTGCTGTGCCCGGGGAAA\n"
     ]
    }
   ],
   "source": [
    "i = 1\n",
    "\n",
    "print('sequence of the first 100 bases of read number ', i)\n",
    "print( df['SEQ'][i][:100] )"
   ]
  },
  {
   "cell_type": "markdown",
   "metadata": {},
   "source": [
    "### load probability vector of the"
   ]
  },
  {
   "cell_type": "code",
   "execution_count": 130,
   "metadata": {},
   "outputs": [],
   "source": [
    "prob = np.memmap('/data/Runs/examples/run_name.flow_prob', dtype=np.float32).reshape(-1, 500, 21)\n",
    "\n",
    "probability_flow_i = prob[i].copy()"
   ]
  },
  {
   "cell_type": "markdown",
   "metadata": {},
   "source": [
    "### from probabilities to hmers"
   ]
  },
  {
   "cell_type": "code",
   "execution_count": 131,
   "metadata": {},
   "outputs": [],
   "source": [
    "called_hmers_from_sample = probability_flow_i.argmax(axis=-1)"
   ]
  },
  {
   "cell_type": "markdown",
   "metadata": {},
   "source": [
    "### from hmers to sequence:\n"
   ]
  },
  {
   "cell_type": "code",
   "execution_count": 132,
   "metadata": {},
   "outputs": [
    {
     "name": "stdout",
     "output_type": "stream",
     "text": [
      "sequence of the first 100 bases of read number  1\n",
      "CTTAGAAAAGGCCGCGGTGAGTCCCAGGGGCCAGCACTGCTCGAAATGTACAGCATTTCTCTTTGTAACAGGATTATTAGCCTGCTGTGCCCGGGGAAAA\n"
     ]
    }
   ],
   "source": [
    "sequence = key2seq(called_hmers_from_sample, flow_order=None, start=0)\n",
    "\n",
    "print('sequence of the first 100 bases of read number ', i)\n",
    "print( sequence[:100] )"
   ]
  },
  {
   "cell_type": "markdown",
   "metadata": {},
   "source": [
    "There is some issue typical to the first cycle in the transformation, causes here to miss the correct probability in the first cycle.\n",
    "\n",
    "After the first cycle it matches"
   ]
  },
  {
   "cell_type": "code",
   "execution_count": 133,
   "metadata": {},
   "outputs": [
    {
     "name": "stdout",
     "output_type": "stream",
     "text": [
      "are the first 200 bases of the sequence the same as the SEQ tag in the sam file?\n"
     ]
    },
    {
     "data": {
      "text/plain": [
       "True"
      ]
     },
     "execution_count": 133,
     "metadata": {},
     "output_type": "execute_result"
    }
   ],
   "source": [
    "print('are the first 200 bases of the sequence the same as the SEQ tag in the sam file?')\n",
    "\n",
    "sequence[:200]==df['SEQ'][i][1:201]"
   ]
  }
 ],
 "metadata": {
  "kernelspec": {
   "display_name": "Python 3",
   "language": "python",
   "name": "python3"
  },
  "language_info": {
   "codemirror_mode": {
    "name": "ipython",
    "version": 3
   },
   "file_extension": ".py",
   "mimetype": "text/x-python",
   "name": "python",
   "nbconvert_exporter": "python",
   "pygments_lexer": "ipython3",
   "version": "3.10.14"
  }
 },
 "nbformat": 4,
 "nbformat_minor": 2
}
